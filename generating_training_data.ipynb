{
 "cells": [
  {
   "cell_type": "code",
   "execution_count": 5,
   "id": "fb6d3dec",
   "metadata": {},
   "outputs": [],
   "source": [
    "import pandas as pd\n",
    "import random\n",
    "\n",
    "# Parameters\n",
    "radius = 8\n",
    "radius_square = radius**2\n",
    "num_points = 1000\n",
    "\n",
    "# Generate data\n",
    "data = []\n",
    "for _ in range(num_points):\n",
    "    x = random.uniform(-10, 10)\n",
    "    y = random.uniform(-10, 10)\n",
    "    distance_square = x**2 + y**2\n",
    "    inside_circle = distance_square <= radius_square\n",
    "    data.append({\n",
    "        'x': x,\n",
    "        'y': y,\n",
    "        'inside_circle': inside_circle\n",
    "    })\n",
    "\n",
    "# Create DataFrame\n",
    "df = pd.DataFrame(data)\n",
    "\n",
    "# Save to Excel\n",
    "df.to_excel('training_data.xlsx')"
   ]
  }
 ],
 "metadata": {
  "kernelspec": {
   "display_name": "Python 3",
   "language": "python",
   "name": "python3"
  },
  "language_info": {
   "codemirror_mode": {
    "name": "ipython",
    "version": 3
   },
   "file_extension": ".py",
   "mimetype": "text/x-python",
   "name": "python",
   "nbconvert_exporter": "python",
   "pygments_lexer": "ipython3",
   "version": "3.13.1"
  }
 },
 "nbformat": 4,
 "nbformat_minor": 5
}
